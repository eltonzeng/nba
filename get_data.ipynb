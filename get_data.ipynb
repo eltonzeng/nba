{
 "cells": [
  {
   "cell_type": "code",
   "execution_count": 1,
   "id": "47f6b876-c517-4e6b-b928-70f78026119a",
   "metadata": {},
   "outputs": [],
   "source": [
    "import os\n",
    "from bs4 import BeautifulSoup                                                             # parse html\n",
    "from playwright.async_api import async_playwright, TimeoutError as PlaywrightTimeout    # enables us to open web browser and grab html\n",
    "import time "
   ]
  },
  {
   "cell_type": "code",
   "execution_count": 2,
   "id": "a34242db-fb80-4569-9a9b-5fa76e367e04",
   "metadata": {
    "scrolled": true
   },
   "outputs": [],
   "source": [
    "SEASONS = list(range(2016, 2023))"
   ]
  },
  {
   "cell_type": "code",
   "execution_count": 3,
   "id": "5c7b351d-2ba7-4dfe-8e70-86570f412b7f",
   "metadata": {},
   "outputs": [],
   "source": [
    "DATADIR = 'data'\n",
    "STANDINGS_DIR = os.path.join(DATADIR, 'standings')\n",
    "SCORES_DIR = os.path.join(DATADIR, 'scores')"
   ]
  },
  {
   "cell_type": "code",
   "execution_count": 4,
   "id": "c0da5002-65ab-4956-b923-99422ff238ad",
   "metadata": {
    "editable": true,
    "slideshow": {
     "slide_type": ""
    },
    "tags": []
   },
   "outputs": [],
   "source": [
    "async def get_html(url, selector, sleep = 5, retries = 3):\n",
    "    html = None\n",
    "    for i in range(1, retries + 1):                         \n",
    "        time.sleep(sleep * i)                                     # Avoid website server banning us\n",
    "\n",
    "        try:\n",
    "            async with async_playwright() as p:                   # Initialize playwright instance\n",
    "                browser = await p.chromium.launch()               # Launch browser. Await turns async method into a synchronous method. Waits for browser to launch before continuing\n",
    "                page = await browser.new_page()                    # Create new tab in browser\n",
    "                await page.goto(url)                              # Send browser in tab to given url\n",
    "                print(await page.title())                         # Check scraping progress\n",
    "                html = await page.inner_html(selector)            # Assign html to selected html\n",
    "        except PlaywrightTimeout:\n",
    "            print(f'Timeout error on {url}')                      # Try again with \"continue\" if error\n",
    "            continue\n",
    "        else:\n",
    "            break                                                 # If web scraping successful, exit loop\n",
    "    return html \n",
    "                "
   ]
  },
  {
   "cell_type": "code",
   "execution_count": 5,
   "id": "df86f6e6-4ec3-49fb-8217-b73e03ea85db",
   "metadata": {},
   "outputs": [],
   "source": [
    "async def scrape_season(season):\n",
    "    url = f\"https://www.basketball-reference.com/leagues/NBA_{season}_games.html\"\n",
    "    html = await get_html(url, \"#content .filter\")                           # Get html before continuing. Content filter is CSS selector to target element ids, starting with id=\"content\" and class = \"filter\"\n",
    "    \n",
    "    # Parse NBA standings with BeautifulSoup\n",
    "    soup = BeautifulSoup(html)                                               # Initialize BeautifulSoup Class\n",
    "    links = soup.find_all(\"a\")                                               # Find_all() \"a\" tags which are the links\n",
    "    href = [l[\"href\"] for l in links]                                        # Get hrefs (href=\"/leagues/NBA 2024 games-november.html\")\n",
    "    standings_pages = [f'https://basketball-reference.com{l}' for l in href] # Add header to links\n",
    "\n",
    "    for url in standings_pages:                                              # Loop through standings_pages\n",
    "        save_path = os.path.join(STANDINGS_DIR, url.split(\"/\")[-1])          # Save to disc. We want to save all data first, then process later.\n",
    "        if os.path.exists(save_path):                                        # Check if already scraped, does not scrape again\n",
    "            continue\n",
    "\n",
    "        html = await get_html(url, \"#all_schedule\")                         # Grab \"all_schedule\" table which contains box scores\n",
    "        with open(save_path, \"w+\") as f:                                    # Save html before we do any processing\n",
    "            f.write(html)                                                   # Write html to file"
   ]
  },
  {
   "cell_type": "code",
   "execution_count": 6,
   "id": "4520b49c-0168-4234-ae18-1b2493cd7c5f",
   "metadata": {},
   "outputs": [
    {
     "name": "stdout",
     "output_type": "stream",
     "text": [
      "Timeout error on https://www.basketball-reference.com/leagues/NBA_2016_games.html\n",
      "Timeout error on https://www.basketball-reference.com/leagues/NBA_2016_games.html\n",
      "Timeout error on https://www.basketball-reference.com/leagues/NBA_2016_games.html\n"
     ]
    },
    {
     "ename": "TypeError",
     "evalue": "object of type 'NoneType' has no len()",
     "output_type": "error",
     "traceback": [
      "\u001b[0;31m---------------------------------------------------------------------------\u001b[0m",
      "\u001b[0;31mTypeError\u001b[0m                                 Traceback (most recent call last)",
      "Cell \u001b[0;32mIn[6], line 2\u001b[0m\n\u001b[1;32m      1\u001b[0m \u001b[38;5;28;01mfor\u001b[39;00m season \u001b[38;5;129;01min\u001b[39;00m SEASONS:\n\u001b[0;32m----> 2\u001b[0m     \u001b[38;5;28;01mawait\u001b[39;00m scrape_season(season)       \u001b[38;5;66;03m# Ensure we finish scraping each season before continuing\u001b[39;00m\n",
      "Cell \u001b[0;32mIn[5], line 6\u001b[0m, in \u001b[0;36mscrape_season\u001b[0;34m(season)\u001b[0m\n\u001b[1;32m      3\u001b[0m html \u001b[38;5;241m=\u001b[39m \u001b[38;5;28;01mawait\u001b[39;00m get_html(url, \u001b[38;5;124m\"\u001b[39m\u001b[38;5;124m#content .filter\u001b[39m\u001b[38;5;124m\"\u001b[39m)                           \u001b[38;5;66;03m# Get html before continuing. Content filter is CSS selector to target element ids, starting with id=\"content\" and class = \"filter\"\u001b[39;00m\n\u001b[1;32m      5\u001b[0m \u001b[38;5;66;03m# Parse NBA standings with BeautifulSoup\u001b[39;00m\n\u001b[0;32m----> 6\u001b[0m soup \u001b[38;5;241m=\u001b[39m \u001b[43mBeautifulSoup\u001b[49m\u001b[43m(\u001b[49m\u001b[43mhtml\u001b[49m\u001b[43m)\u001b[49m                                               \u001b[38;5;66;03m# Initialize BeautifulSoup Class\u001b[39;00m\n\u001b[1;32m      7\u001b[0m links \u001b[38;5;241m=\u001b[39m soup\u001b[38;5;241m.\u001b[39mfind_all(\u001b[38;5;124m\"\u001b[39m\u001b[38;5;124ma\u001b[39m\u001b[38;5;124m\"\u001b[39m)                                               \u001b[38;5;66;03m# Find_all() \"a\" tags which are the links\u001b[39;00m\n\u001b[1;32m      8\u001b[0m href \u001b[38;5;241m=\u001b[39m [l[\u001b[38;5;124m\"\u001b[39m\u001b[38;5;124mhref\u001b[39m\u001b[38;5;124m\"\u001b[39m] \u001b[38;5;28;01mfor\u001b[39;00m l \u001b[38;5;129;01min\u001b[39;00m links]                                        \u001b[38;5;66;03m# Get hrefs (href=\"/leagues/NBA 2024 games-november.html\")\u001b[39;00m\n",
      "File \u001b[0;32m/Library/Frameworks/Python.framework/Versions/3.12/lib/python3.12/site-packages/bs4/__init__.py:315\u001b[0m, in \u001b[0;36mBeautifulSoup.__init__\u001b[0;34m(self, markup, features, builder, parse_only, from_encoding, exclude_encodings, element_classes, **kwargs)\u001b[0m\n\u001b[1;32m    313\u001b[0m \u001b[38;5;28;01mif\u001b[39;00m \u001b[38;5;28mhasattr\u001b[39m(markup, \u001b[38;5;124m'\u001b[39m\u001b[38;5;124mread\u001b[39m\u001b[38;5;124m'\u001b[39m):        \u001b[38;5;66;03m# It's a file-type object.\u001b[39;00m\n\u001b[1;32m    314\u001b[0m     markup \u001b[38;5;241m=\u001b[39m markup\u001b[38;5;241m.\u001b[39mread()\n\u001b[0;32m--> 315\u001b[0m \u001b[38;5;28;01melif\u001b[39;00m \u001b[38;5;28;43mlen\u001b[39;49m\u001b[43m(\u001b[49m\u001b[43mmarkup\u001b[49m\u001b[43m)\u001b[49m \u001b[38;5;241m<\u001b[39m\u001b[38;5;241m=\u001b[39m \u001b[38;5;241m256\u001b[39m \u001b[38;5;129;01mand\u001b[39;00m (\n\u001b[1;32m    316\u001b[0m         (\u001b[38;5;28misinstance\u001b[39m(markup, \u001b[38;5;28mbytes\u001b[39m) \u001b[38;5;129;01mand\u001b[39;00m \u001b[38;5;129;01mnot\u001b[39;00m \u001b[38;5;124mb\u001b[39m\u001b[38;5;124m'\u001b[39m\u001b[38;5;124m<\u001b[39m\u001b[38;5;124m'\u001b[39m \u001b[38;5;129;01min\u001b[39;00m markup)\n\u001b[1;32m    317\u001b[0m         \u001b[38;5;129;01mor\u001b[39;00m (\u001b[38;5;28misinstance\u001b[39m(markup, \u001b[38;5;28mstr\u001b[39m) \u001b[38;5;129;01mand\u001b[39;00m \u001b[38;5;129;01mnot\u001b[39;00m \u001b[38;5;124m'\u001b[39m\u001b[38;5;124m<\u001b[39m\u001b[38;5;124m'\u001b[39m \u001b[38;5;129;01min\u001b[39;00m markup)\n\u001b[1;32m    318\u001b[0m ):\n\u001b[1;32m    319\u001b[0m     \u001b[38;5;66;03m# Issue warnings for a couple beginner problems\u001b[39;00m\n\u001b[1;32m    320\u001b[0m     \u001b[38;5;66;03m# involving passing non-markup to Beautiful Soup.\u001b[39;00m\n\u001b[1;32m    321\u001b[0m     \u001b[38;5;66;03m# Beautiful Soup will still parse the input as markup,\u001b[39;00m\n\u001b[1;32m    322\u001b[0m     \u001b[38;5;66;03m# since that is sometimes the intended behavior.\u001b[39;00m\n\u001b[1;32m    323\u001b[0m     \u001b[38;5;28;01mif\u001b[39;00m \u001b[38;5;129;01mnot\u001b[39;00m \u001b[38;5;28mself\u001b[39m\u001b[38;5;241m.\u001b[39m_markup_is_url(markup):\n\u001b[1;32m    324\u001b[0m         \u001b[38;5;28mself\u001b[39m\u001b[38;5;241m.\u001b[39m_markup_resembles_filename(markup)                \n",
      "\u001b[0;31mTypeError\u001b[0m: object of type 'NoneType' has no len()"
     ]
    }
   ],
   "source": [
    "for season in SEASONS:\n",
    "    await scrape_season(season)       # Ensure we finish scraping each season before continuing"
   ]
  },
  {
   "cell_type": "code",
   "execution_count": null,
   "id": "dc4b1e4a-c04d-49c9-ae48-ed3034f87bc3",
   "metadata": {},
   "outputs": [],
   "source": [
    "# Parse box score links with BeautifulSoup\n",
    "standings_files = os.listdir(STANDINGS_DIR)    # Verify scraping completion"
   ]
  },
  {
   "cell_type": "code",
   "execution_count": null,
   "id": "a3b50dd8-a29c-4b78-8304-7704a689e375",
   "metadata": {},
   "outputs": [],
   "source": [
    "standings_files"
   ]
  },
  {
   "cell_type": "code",
   "execution_count": null,
   "id": "6a060015-198e-4b07-b3a5-a4f9b1297af4",
   "metadata": {},
   "outputs": [],
   "source": [
    "async def scrape_game(standings_file):\n",
    "    with open(standings_file, 'r') as f:                                             # Open standings file to scrape box score data\n",
    "        html = f.read()                                                              # Read file\n",
    "     \n",
    "    soup = BeautifulSoup(standings_file)                                             # Process file using BeautifulSoup\n",
    "    links = soup.find_all(\"a\")                                                       # Clean data starting with finding \"a\" tags\n",
    "    hrefs = [l.get(\"href\") for l in links]                                           # Then get elements with \"href\" tags\n",
    "    box_scores = [l for l in hrefs if l and \"boxscore\" in l and \".html\" in l]        # List comprehension to filter null, contains \"boxscore\", and \".html\"\n",
    "    box_scores = [f\"https://www.basketball-reference.com{l}\" for l in box_scores]    # Add header to complete box score links\n",
    "     \n",
    "    # Download box scores with Playwright\n",
    "    for url in box_scores:                                                           # Loop through box score pages\n",
    "        save_path = os.path.join(SCORES_DIR, url.split(\"/\")[-1])                     # Save box scores in scores directory\n",
    "        if os.path.exists(save_path):                                                # Ignore duplicate files\n",
    "            continue\n",
    "        \n",
    "        html = await get_html(url, \"#content\")                                       # Get html with selector \"content\"\n",
    "        if not html:                                                                 # Check if html is null\n",
    "            continue\n",
    "        with open(save_path, \"w+\") as f:                                             # Save html before we do any processing\n",
    "            f.write(html)                                                            # Write html to file"
   ]
  },
  {
   "cell_type": "code",
   "execution_count": null,
   "id": "c7f2a067-46dc-4c5a-a6b5-d4d239667161",
   "metadata": {},
   "outputs": [],
   "source": [
    "standings_file = [s for s in stands_file if.\".html\" in s]"
   ]
  },
  {
   "cell_type": "code",
   "execution_count": null,
   "id": "cec5176e-fc83-4baa-9b36-807587094bff",
   "metadata": {},
   "outputs": [],
   "source": [
    "for f in standings_files:                           # Scrape each game\n",
    "    filepath = os.path.join(STANDINGS_DIR, f)\n",
    "\n",
    "    await scrape_game(filepath)"
   ]
  },
  {
   "cell_type": "code",
   "execution_count": null,
   "id": "7b14d7b9-5dc7-46d9-894a-07c96ff2a3e4",
   "metadata": {},
   "outputs": [],
   "source": [
    "standings_files"
   ]
  },
  {
   "cell_type": "code",
   "execution_count": null,
   "id": "0e63f082-14f4-43d4-a7a3-84203e12c94a",
   "metadata": {},
   "outputs": [],
   "source": []
  }
 ],
 "metadata": {
  "kernelspec": {
   "display_name": "Python 3 (ipykernel)",
   "language": "python",
   "name": "python3"
  },
  "language_info": {
   "codemirror_mode": {
    "name": "ipython",
    "version": 3
   },
   "file_extension": ".py",
   "mimetype": "text/x-python",
   "name": "python",
   "nbconvert_exporter": "python",
   "pygments_lexer": "ipython3",
   "version": "3.12.2"
  }
 },
 "nbformat": 4,
 "nbformat_minor": 5
}
