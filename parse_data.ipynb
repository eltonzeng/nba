{
 "cells": [
  {
   "cell_type": "code",
   "execution_count": 1,
   "id": "b3d47188-be87-48a9-a2d4-b6a04b9db1f4",
   "metadata": {},
   "outputs": [],
   "source": [
    "import os\n",
    "import pandas as pd\n",
    "from bs4 import BeautifulSoup"
   ]
  },
  {
   "cell_type": "code",
   "execution_count": 2,
   "id": "36918d06-8d7c-4ac6-9f14-cd4476281dd6",
   "metadata": {},
   "outputs": [],
   "source": [
    "SCORE_DIR = \"data/scores\""
   ]
  },
  {
   "cell_type": "code",
   "execution_count": 3,
   "id": "2b40dccd-233a-4596-bbd8-ad76ff2cc264",
   "metadata": {},
   "outputs": [],
   "source": [
    "box_scores = os.listdir(SCORE_DIR)    # Get box scores from score directory"
   ]
  },
  {
   "cell_type": "code",
   "execution_count": 4,
   "id": "9fcf6c08-de5b-4350-b2e9-c8e2bd05a789",
   "metadata": {},
   "outputs": [
    {
     "ename": "SyntaxError",
     "evalue": "invalid syntax (2301654723.py, line 1)",
     "output_type": "error",
     "traceback": [
      "\u001b[0;36m  Cell \u001b[0;32mIn[4], line 1\u001b[0;36m\u001b[0m\n\u001b[0;31m    box scores = [os.path.join(SCORE_DIR, f) for f in box_scores if f.endswith(\".html\")]\u001b[0m\n\u001b[0m        ^\u001b[0m\n\u001b[0;31mSyntaxError\u001b[0m\u001b[0;31m:\u001b[0m invalid syntax\n"
     ]
    }
   ],
   "source": [
    "box_scores = [os.path.join(SCORE_DIR, f) for f in box_scores if f.endswith(\".html\")]    # Join score directory and file name filtering by \".html\""
   ]
  },
  {
   "cell_type": "code",
   "execution_count": 5,
   "id": "e5ce63c4-5fe0-4734-a8e1-c5b4e2f317ab",
   "metadata": {},
   "outputs": [],
   "source": [
    "# Parse box scoes with BeautifulSoup\n",
    "def parse_html(box_score):                                    # Parse html for clean up\n",
    "    with open(box_score) as f:                                # Read box score file\n",
    "        html = f.read()\n",
    "\n",
    "    soup = BeautifulSoup(html)                                # Create BeautifulSoup instance to parse read file\n",
    "    [s.decompose() for s in soup.select(\"tr.over_header\")]    # Remove \"tr.over_header\" using select() and decompose()\n",
    "    [s.decompose() for s in soup.select(\"tr.thead\")]          # Remove \"tr.thead\" using select() and decompose()\n",
    "    return soup                                               # Return a cleaned soup - decompose() runs in place, so we don't need to assign above methods to anything"
   ]
  },
  {
   "cell_type": "code",
   "execution_count": null,
   "id": "ddfe64e1-8ea5-4da9-a208-9cc540ebd4c6",
   "metadata": {},
   "outputs": [],
   "source": [
    "# Read line score table with pandas\n",
    "def read_line_score(soup):                                              # Read line score that indicates how many points were scored and who won/lost\n",
    "    line_score = pd.read_html(str(soup), attrs={\"id\": \"line_score\"})    # Given html, use pd.read_html() to process table with id \"line_score\"\n",
    "    cols = list(line)score.columns)                                     # Fix column names by convert column names from list to index\n",
    "    cols[0] = \"team\"                                                    # First column value assigned to \"team\"\n",
    "    cols [-1] = \"total\"                                                 # Second column value assigned to \"total\"\n",
    "    line_score.columns = cols                                           # Assign modified cols to dataframe columns\n",
    "\n",
    "    line_score = line_score[[\"team\", \"total\"]]                          # Remove column names between \"team\" and \"total\" (\"1\", \"2\", \"3\", \"4\" because of overtime game errors) \n",
    "    return line_score"
   ]
  },
  {
   "cell_type": "code",
   "execution_count": 6,
   "id": "23375808-e1e2-41b4-a753-5a6aac929995",
   "metadata": {},
   "outputs": [],
   "source": [
    "# Parse basic & advanced stats tables with pandas\n",
    "def read_stats(soup, team, stat):\n",
    "    df = pd.read_html(str(soup), attrs={\"id\": f\"box-{team}-game-{stat}\"}, index_col = 0)[0]     # Read stats varying by team, basic, and advanced\n",
    "    df = df.apply(pd.to_numeric, errors=\"coerce\")                                               # Convert columns to numeric columns to & replace strings with NaN\n",
    "    return df"
   ]
  },
  {
   "cell_type": "code",
   "execution_count": null,
   "id": "1618c36e-8fb7-440c-8828-768f4a91f8a5",
   "metadata": {},
   "outputs": [],
   "source": [
    "box_score = box_scores[0]\n",
    "soup = parse_html(box_score)\n",
    "line_score = read_line_score(soup)\n",
    "teams = list(line_score[\"team\"])\n",
    "\n",
    "summaries = []\n",
    "for team in teams:\n",
    "    basic = read_stats(soup, team, \"basic\")\n",
    "    advanced = read_stats(soup, team, \"advanced\")\n",
    "\n",
    "    total = pd.concat([basic.iloc[-1,:], advanced.iloc[-1,:]])\n",
    "    totals = totals.index.str.lower()                                           # Takes all column names and converts to lower-case\n",
    "      \n",
    "    maxes = pd.concat([basic.iloc[:-1,:].max(), advanced.iloc[:-1, :].max()])\n",
    "    maxes.index = maxes.index.str.lower() + \"_max\"\n",
    "\n",
    "    summary = pd.concat([totals, maxes])"
   ]
  },
  {
   "cell_type": "code",
   "execution_count": null,
   "id": "8e4c6335-253d-4cd5-992c-c364f309e434",
   "metadata": {},
   "outputs": [],
   "source": []
  }
 ],
 "metadata": {
  "kernelspec": {
   "display_name": "Python 3 (ipykernel)",
   "language": "python",
   "name": "python3"
  },
  "language_info": {
   "codemirror_mode": {
    "name": "ipython",
    "version": 3
   },
   "file_extension": ".py",
   "mimetype": "text/x-python",
   "name": "python",
   "nbconvert_exporter": "python",
   "pygments_lexer": "ipython3",
   "version": "3.12.2"
  }
 },
 "nbformat": 4,
 "nbformat_minor": 5
}
