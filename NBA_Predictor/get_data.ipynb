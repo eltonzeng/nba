{
 "cells": [
  {
   "cell_type": "code",
   "execution_count": 5,
   "id": "47f6b876-c517-4e6b-b928-70f78026119a",
   "metadata": {},
   "outputs": [],
   "source": [
    "import os\n",
    "from bs4 import BeautifulSoup                                                             # parse html\n",
    "from playwright.async_api import async_playwright, TimeoutError as PlaywrightTimeout    # enables us to open web browser and grab html\n",
    "import time "
   ]
  },
  {
   "cell_type": "code",
   "execution_count": 1,
   "id": "26089180-6ac6-4c75-ae3e-3216f5d49aa8",
   "metadata": {
    "collapsed": true,
    "jupyter": {
     "outputs_hidden": true
    },
    "scrolled": true
   },
   "outputs": [
    {
     "name": "stdout",
     "output_type": "stream",
     "text": [
      "Requirement already satisfied: beautifulsoup4 in c:\\users\\bigg sackie\\pycharmprojects\\pythonproject\\venv\\lib\\site-packages (4.12.3)\n",
      "Requirement already satisfied: soupsieve>1.2 in c:\\users\\bigg sackie\\pycharmprojects\\pythonproject\\venv\\lib\\site-packages (from beautifulsoup4) (2.5)\n",
      "Note: you may need to restart the kernel to use updated packages.\n",
      "Collecting playwright\n",
      "  Downloading playwright-1.45.1-py3-none-win_amd64.whl.metadata (3.5 kB)\n",
      "Collecting greenlet==3.0.3 (from playwright)\n",
      "  Downloading greenlet-3.0.3-cp310-cp310-win_amd64.whl.metadata (3.9 kB)\n",
      "Collecting pyee==11.1.0 (from playwright)\n",
      "  Downloading pyee-11.1.0-py3-none-any.whl.metadata (2.8 kB)\n",
      "Requirement already satisfied: typing-extensions in c:\\users\\bigg sackie\\pycharmprojects\\pythonproject\\venv\\lib\\site-packages (from pyee==11.1.0->playwright) (4.12.2)\n",
      "Downloading playwright-1.45.1-py3-none-win_amd64.whl (29.7 MB)\n",
      "   ---------------------------------------- 0.0/29.7 MB ? eta -:--:--\n",
      "   ---------------------------------------- 0.2/29.7 MB 3.9 MB/s eta 0:00:08\n",
      "    --------------------------------------- 0.4/29.7 MB 5.3 MB/s eta 0:00:06\n",
      "   - -------------------------------------- 0.9/29.7 MB 6.4 MB/s eta 0:00:05\n",
      "   - -------------------------------------- 1.4/29.7 MB 7.2 MB/s eta 0:00:04\n",
      "   -- ------------------------------------- 1.8/29.7 MB 7.4 MB/s eta 0:00:04\n",
      "   -- ------------------------------------- 2.1/29.7 MB 7.6 MB/s eta 0:00:04\n",
      "   --- ------------------------------------ 2.5/29.7 MB 7.6 MB/s eta 0:00:04\n",
      "   --- ------------------------------------ 2.9/29.7 MB 7.5 MB/s eta 0:00:04\n",
      "   ---- ----------------------------------- 3.3/29.7 MB 7.6 MB/s eta 0:00:04\n",
      "   ----- ---------------------------------- 3.7/29.7 MB 7.7 MB/s eta 0:00:04\n",
      "   ----- ---------------------------------- 4.1/29.7 MB 7.7 MB/s eta 0:00:04\n",
      "   ------ --------------------------------- 4.5/29.7 MB 7.8 MB/s eta 0:00:04\n",
      "   ------ --------------------------------- 4.9/29.7 MB 7.9 MB/s eta 0:00:04\n",
      "   ------- -------------------------------- 5.4/29.7 MB 8.0 MB/s eta 0:00:04\n",
      "   ------- -------------------------------- 5.8/29.7 MB 8.0 MB/s eta 0:00:03\n",
      "   -------- ------------------------------- 6.2/29.7 MB 8.1 MB/s eta 0:00:03\n",
      "   -------- ------------------------------- 6.6/29.7 MB 8.1 MB/s eta 0:00:03\n",
      "   --------- ------------------------------ 7.0/29.7 MB 8.1 MB/s eta 0:00:03\n",
      "   ---------- ----------------------------- 7.4/29.7 MB 8.2 MB/s eta 0:00:03\n",
      "   ---------- ----------------------------- 7.9/29.7 MB 8.2 MB/s eta 0:00:03\n",
      "   ----------- ---------------------------- 8.3/29.7 MB 8.3 MB/s eta 0:00:03\n",
      "   ----------- ---------------------------- 8.7/29.7 MB 8.3 MB/s eta 0:00:03\n",
      "   ------------ --------------------------- 9.2/29.7 MB 8.4 MB/s eta 0:00:03\n",
      "   ------------ --------------------------- 9.6/29.7 MB 8.4 MB/s eta 0:00:03\n",
      "   ------------- -------------------------- 10.0/29.7 MB 8.4 MB/s eta 0:00:03\n",
      "   -------------- ------------------------- 10.5/29.7 MB 8.7 MB/s eta 0:00:03\n",
      "   -------------- ------------------------- 10.9/29.7 MB 8.8 MB/s eta 0:00:03\n",
      "   --------------- ------------------------ 11.4/29.7 MB 8.8 MB/s eta 0:00:03\n",
      "   --------------- ------------------------ 11.8/29.7 MB 8.8 MB/s eta 0:00:03\n",
      "   ---------------- ----------------------- 12.3/29.7 MB 9.0 MB/s eta 0:00:02\n",
      "   ----------------- ---------------------- 12.7/29.7 MB 9.0 MB/s eta 0:00:02\n",
      "   ----------------- ---------------------- 13.2/29.7 MB 9.1 MB/s eta 0:00:02\n",
      "   ------------------ --------------------- 13.7/29.7 MB 9.2 MB/s eta 0:00:02\n",
      "   ------------------- -------------------- 14.1/29.7 MB 9.2 MB/s eta 0:00:02\n",
      "   ------------------- -------------------- 14.6/29.7 MB 9.4 MB/s eta 0:00:02\n",
      "   -------------------- ------------------- 15.1/29.7 MB 9.4 MB/s eta 0:00:02\n",
      "   -------------------- ------------------- 15.5/29.7 MB 9.5 MB/s eta 0:00:02\n",
      "   --------------------- ------------------ 16.0/29.7 MB 9.5 MB/s eta 0:00:02\n",
      "   ---------------------- ----------------- 16.5/29.7 MB 9.6 MB/s eta 0:00:02\n",
      "   ---------------------- ----------------- 17.0/29.7 MB 9.6 MB/s eta 0:00:02\n",
      "   ----------------------- ---------------- 17.4/29.7 MB 9.8 MB/s eta 0:00:02\n",
      "   ------------------------ --------------- 17.9/29.7 MB 9.8 MB/s eta 0:00:02\n",
      "   ------------------------ --------------- 18.4/29.7 MB 9.9 MB/s eta 0:00:02\n",
      "   ------------------------- -------------- 18.9/29.7 MB 9.9 MB/s eta 0:00:02\n",
      "   -------------------------- ------------- 19.4/29.7 MB 9.9 MB/s eta 0:00:02\n",
      "   -------------------------- ------------- 19.8/29.7 MB 9.9 MB/s eta 0:00:01\n",
      "   --------------------------- ------------ 20.3/29.7 MB 9.9 MB/s eta 0:00:01\n",
      "   ---------------------------- ----------- 20.8/29.7 MB 10.1 MB/s eta 0:00:01\n",
      "   ---------------------------- ----------- 21.2/29.7 MB 10.1 MB/s eta 0:00:01\n",
      "   ----------------------------- ---------- 21.7/29.7 MB 9.9 MB/s eta 0:00:01\n",
      "   ----------------------------- ---------- 22.2/29.7 MB 9.9 MB/s eta 0:00:01\n",
      "   ------------------------------ --------- 22.7/29.7 MB 9.9 MB/s eta 0:00:01\n",
      "   ------------------------------- -------- 23.2/29.7 MB 10.1 MB/s eta 0:00:01\n",
      "   ------------------------------- -------- 23.7/29.7 MB 10.1 MB/s eta 0:00:01\n",
      "   -------------------------------- ------- 24.2/29.7 MB 10.1 MB/s eta 0:00:01\n",
      "   --------------------------------- ------ 24.6/29.7 MB 10.1 MB/s eta 0:00:01\n",
      "   --------------------------------- ------ 25.1/29.7 MB 10.1 MB/s eta 0:00:01\n",
      "   ---------------------------------- ----- 25.6/29.7 MB 10.1 MB/s eta 0:00:01\n",
      "   ----------------------------------- ---- 26.1/29.7 MB 10.1 MB/s eta 0:00:01\n",
      "   ----------------------------------- ---- 26.6/29.7 MB 10.1 MB/s eta 0:00:01\n",
      "   ------------------------------------ --- 27.0/29.7 MB 10.1 MB/s eta 0:00:01\n",
      "   ------------------------------------ --- 27.4/29.7 MB 10.1 MB/s eta 0:00:01\n",
      "   ------------------------------------- -- 27.7/29.7 MB 9.9 MB/s eta 0:00:01\n",
      "   ------------------------------------- -- 28.0/29.7 MB 9.6 MB/s eta 0:00:01\n",
      "   -------------------------------------- - 28.4/29.7 MB 9.6 MB/s eta 0:00:01\n",
      "   -------------------------------------- - 28.8/29.7 MB 9.5 MB/s eta 0:00:01\n",
      "   ---------------------------------------  29.2/29.7 MB 9.5 MB/s eta 0:00:01\n",
      "   ---------------------------------------  29.6/29.7 MB 9.4 MB/s eta 0:00:01\n",
      "   ---------------------------------------  29.7/29.7 MB 9.4 MB/s eta 0:00:01\n",
      "   ---------------------------------------  29.7/29.7 MB 9.4 MB/s eta 0:00:01\n",
      "   ---------------------------------------  29.7/29.7 MB 9.4 MB/s eta 0:00:01\n",
      "   ---------------------------------------  29.7/29.7 MB 9.4 MB/s eta 0:00:01\n",
      "   ---------------------------------------  29.7/29.7 MB 9.4 MB/s eta 0:00:01\n",
      "   ---------------------------------------  29.7/29.7 MB 9.4 MB/s eta 0:00:01\n",
      "   ---------------------------------------  29.7/29.7 MB 9.4 MB/s eta 0:00:01\n",
      "   ---------------------------------------  29.7/29.7 MB 9.4 MB/s eta 0:00:01\n",
      "   ---------------------------------------- 29.7/29.7 MB 6.8 MB/s eta 0:00:00\n",
      "Downloading greenlet-3.0.3-cp310-cp310-win_amd64.whl (292 kB)\n",
      "   ---------------------------------------- 0.0/292.3 kB ? eta -:--:--\n",
      "   ---------------------------------------  286.7/292.3 kB 8.9 MB/s eta 0:00:01\n",
      "   ---------------------------------------  286.7/292.3 kB 8.9 MB/s eta 0:00:01\n",
      "   ---------------------------------------- 292.3/292.3 kB 3.0 MB/s eta 0:00:00\n",
      "Downloading pyee-11.1.0-py3-none-any.whl (15 kB)\n",
      "Installing collected packages: pyee, greenlet, playwright\n",
      "Successfully installed greenlet-3.0.3 playwright-1.45.1 pyee-11.1.0\n",
      "Note: you may need to restart the kernel to use updated packages.\n"
     ]
    }
   ],
   "source": [
    "%pip install beautifulsoup4\n",
    "%pip install playwright"
   ]
  },
  {
   "cell_type": "code",
   "execution_count": 17,
   "id": "39ce88bb-7bcc-4d64-bf18-daf58f2a0202",
   "metadata": {},
   "outputs": [],
   "source": [
    "!playwright install                                                                    "
   ]
  },
  {
   "cell_type": "code",
   "execution_count": 19,
   "id": "7ee368f6-fa61-4ff6-9fae-15e5ea3b07ca",
   "metadata": {},
   "outputs": [
    {
     "name": "stdout",
     "output_type": "stream",
     "text": [
      "Requirement already satisfied: playwright in c:\\users\\bigg sackie\\pycharmprojects\\pythonproject\\venv\\lib\\site-packages (1.45.1)\n",
      "Requirement already satisfied: greenlet==3.0.3 in c:\\users\\bigg sackie\\pycharmprojects\\pythonproject\\venv\\lib\\site-packages (from playwright) (3.0.3)\n",
      "Requirement already satisfied: pyee==11.1.0 in c:\\users\\bigg sackie\\pycharmprojects\\pythonproject\\venv\\lib\\site-packages (from playwright) (11.1.0)\n",
      "Requirement already satisfied: typing-extensions in c:\\users\\bigg sackie\\pycharmprojects\\pythonproject\\venv\\lib\\site-packages (from pyee==11.1.0->playwright) (4.12.2)\n",
      "Note: you may need to restart the kernel to use updated packages.\n"
     ]
    }
   ],
   "source": [
    "pip install -U playwright"
   ]
  },
  {
   "cell_type": "code",
   "execution_count": 4,
   "id": "a34242db-fb80-4569-9a9b-5fa76e367e04",
   "metadata": {
    "collapsed": true,
    "jupyter": {
     "outputs_hidden": true
    },
    "scrolled": true
   },
   "outputs": [
    {
     "data": {
      "text/plain": [
       "[2016, 2017, 2018, 2019, 2020, 2021, 2022]"
      ]
     },
     "execution_count": 4,
     "metadata": {},
     "output_type": "execute_result"
    }
   ],
   "source": [
    "SEASONS = list(range(2016, 2023))"
   ]
  },
  {
   "cell_type": "code",
   "execution_count": 7,
   "id": "5c7b351d-2ba7-4dfe-8e70-86570f412b7f",
   "metadata": {},
   "outputs": [],
   "source": [
    "DATADIR = 'data'\n",
    "STANDINGS_DIR = os.path.join(DATADIR, 'standings')\n",
    "SCORES_DIR = os.path.join(DATADIR, 'scores')"
   ]
  },
  {
   "cell_type": "code",
   "execution_count": 10,
   "id": "c0da5002-65ab-4956-b923-99422ff238ad",
   "metadata": {
    "editable": true,
    "slideshow": {
     "slide_type": ""
    },
    "tags": []
   },
   "outputs": [],
   "source": [
    "async def get_html(url, selector, sleep = 5, retries = 3):\n",
    "    html = None\n",
    "    for i in range(1, retries + 1):                         \n",
    "        time.sleep(sleep * i)                                     # Avoid website server banning us\n",
    "\n",
    "        try:\n",
    "            async with async_playwright() as p:                   # Initialize playwright instance\n",
    "                browser = await p.chromium.launch()               # Launch browser. Await turns async method into a synchronous method. Waits for browser to launch before continuing\n",
    "                page = await browser.newpage()                    # Create new tab in browser\n",
    "                await page.goto(url)                              # Send browser in tab to given url\n",
    "                print(await page.title())                         # Check scraping progress\n",
    "                html = await page.inner_html(selector)            # Assign html to selected html\n",
    "        except PlaywrightTimeout:\n",
    "            print(f'Timeout error on {url}')                      # Try again with \"continue\" if error\n",
    "            continue\n",
    "        else:\n",
    "            break                                                 # If web scraping successful, exit loop\n",
    "    return html \n",
    "                "
   ]
  },
  {
   "cell_type": "code",
   "execution_count": 14,
   "id": "c766da98-d1bc-4429-8fd2-5041504af3b8",
   "metadata": {},
   "outputs": [],
   "source": [
    "season = 2024\n",
    "url = f\"https://www.basketball-reference.com/leagues/NBA_{season}_games.html\""
   ]
  },
  {
   "cell_type": "code",
   "execution_count": 18,
   "id": "7ca123c1-4413-477e-b982-2ee2682d0d05",
   "metadata": {},
   "outputs": [
    {
     "ename": "NotImplementedError",
     "evalue": "",
     "output_type": "error",
     "traceback": [
      "\u001b[1;31m---------------------------------------------------------------------------\u001b[0m",
      "\u001b[1;31mNotImplementedError\u001b[0m                       Traceback (most recent call last)",
      "Cell \u001b[1;32mIn[18], line 1\u001b[0m\n\u001b[1;32m----> 1\u001b[0m html \u001b[38;5;241m=\u001b[39m \u001b[38;5;28;01mawait\u001b[39;00m get_html(url, \u001b[38;5;124m\"\u001b[39m\u001b[38;5;124m#content .filter\u001b[39m\u001b[38;5;124m\"\u001b[39m)                \u001b[38;5;66;03m# Get html before continuing. Content filter is CSS selector to target element ids, starting with id=\"content\" and class = \"filter\"\u001b[39;00m\n",
      "Cell \u001b[1;32mIn[10], line 7\u001b[0m, in \u001b[0;36mget_html\u001b[1;34m(url, selector, sleep, retries)\u001b[0m\n\u001b[0;32m      4\u001b[0m time\u001b[38;5;241m.\u001b[39msleep(sleep \u001b[38;5;241m*\u001b[39m i)                                     \u001b[38;5;66;03m# Avoid website server banning us\u001b[39;00m\n\u001b[0;32m      6\u001b[0m \u001b[38;5;28;01mtry\u001b[39;00m:\n\u001b[1;32m----> 7\u001b[0m     \u001b[38;5;28;01masync\u001b[39;00m \u001b[38;5;28;01mwith\u001b[39;00m async_playwright() \u001b[38;5;28;01mas\u001b[39;00m p:                   \u001b[38;5;66;03m# Initialize playwright instance\u001b[39;00m\n\u001b[0;32m      8\u001b[0m         browser \u001b[38;5;241m=\u001b[39m \u001b[38;5;28;01mawait\u001b[39;00m p\u001b[38;5;241m.\u001b[39mchromium\u001b[38;5;241m.\u001b[39mlaunch()               \u001b[38;5;66;03m# Launch browser. Await turns async method into a synchronous method. Waits for browser to launch before continuing\u001b[39;00m\n\u001b[0;32m      9\u001b[0m         page \u001b[38;5;241m=\u001b[39m \u001b[38;5;28;01mawait\u001b[39;00m browser\u001b[38;5;241m.\u001b[39mnewpage()                    \u001b[38;5;66;03m# Create new tab in browser\u001b[39;00m\n",
      "File \u001b[1;32m~\\PycharmProjects\\pythonProject\\venv\\lib\\site-packages\\playwright\\async_api\\_context_manager.py:46\u001b[0m, in \u001b[0;36mPlaywrightContextManager.__aenter__\u001b[1;34m(self)\u001b[0m\n\u001b[0;32m     44\u001b[0m \u001b[38;5;28;01mif\u001b[39;00m \u001b[38;5;129;01mnot\u001b[39;00m playwright_future\u001b[38;5;241m.\u001b[39mdone():\n\u001b[0;32m     45\u001b[0m     playwright_future\u001b[38;5;241m.\u001b[39mcancel()\n\u001b[1;32m---> 46\u001b[0m playwright \u001b[38;5;241m=\u001b[39m AsyncPlaywright(\u001b[38;5;28;43mnext\u001b[39;49m\u001b[43m(\u001b[49m\u001b[38;5;28;43miter\u001b[39;49m\u001b[43m(\u001b[49m\u001b[43mdone\u001b[49m\u001b[43m)\u001b[49m\u001b[43m)\u001b[49m\u001b[38;5;241;43m.\u001b[39;49m\u001b[43mresult\u001b[49m\u001b[43m(\u001b[49m\u001b[43m)\u001b[49m)\n\u001b[0;32m     47\u001b[0m playwright\u001b[38;5;241m.\u001b[39mstop \u001b[38;5;241m=\u001b[39m \u001b[38;5;28mself\u001b[39m\u001b[38;5;241m.\u001b[39m\u001b[38;5;21m__aexit__\u001b[39m  \u001b[38;5;66;03m# type: ignore\u001b[39;00m\n\u001b[0;32m     48\u001b[0m \u001b[38;5;28;01mreturn\u001b[39;00m playwright\n",
      "File \u001b[1;32m~\\PycharmProjects\\pythonProject\\venv\\lib\\site-packages\\playwright\\_impl\\_connection.py:272\u001b[0m, in \u001b[0;36mConnection.run\u001b[1;34m(self)\u001b[0m\n\u001b[0;32m    269\u001b[0m \u001b[38;5;28;01masync\u001b[39;00m \u001b[38;5;28;01mdef\u001b[39;00m \u001b[38;5;21minit\u001b[39m() \u001b[38;5;241m-\u001b[39m\u001b[38;5;241m>\u001b[39m \u001b[38;5;28;01mNone\u001b[39;00m:\n\u001b[0;32m    270\u001b[0m     \u001b[38;5;28mself\u001b[39m\u001b[38;5;241m.\u001b[39mplaywright_future\u001b[38;5;241m.\u001b[39mset_result(\u001b[38;5;28;01mawait\u001b[39;00m \u001b[38;5;28mself\u001b[39m\u001b[38;5;241m.\u001b[39m_root_object\u001b[38;5;241m.\u001b[39minitialize())\n\u001b[1;32m--> 272\u001b[0m \u001b[38;5;28;01mawait\u001b[39;00m \u001b[38;5;28mself\u001b[39m\u001b[38;5;241m.\u001b[39m_transport\u001b[38;5;241m.\u001b[39mconnect()\n\u001b[0;32m    273\u001b[0m \u001b[38;5;28mself\u001b[39m\u001b[38;5;241m.\u001b[39m_init_task \u001b[38;5;241m=\u001b[39m \u001b[38;5;28mself\u001b[39m\u001b[38;5;241m.\u001b[39m_loop\u001b[38;5;241m.\u001b[39mcreate_task(init())\n\u001b[0;32m    274\u001b[0m \u001b[38;5;28;01mawait\u001b[39;00m \u001b[38;5;28mself\u001b[39m\u001b[38;5;241m.\u001b[39m_transport\u001b[38;5;241m.\u001b[39mrun()\n",
      "File \u001b[1;32m~\\PycharmProjects\\pythonProject\\venv\\lib\\site-packages\\playwright\\_impl\\_transport.py:133\u001b[0m, in \u001b[0;36mPipeTransport.connect\u001b[1;34m(self)\u001b[0m\n\u001b[0;32m    131\u001b[0m \u001b[38;5;28;01mexcept\u001b[39;00m \u001b[38;5;167;01mException\u001b[39;00m \u001b[38;5;28;01mas\u001b[39;00m exc:\n\u001b[0;32m    132\u001b[0m     \u001b[38;5;28mself\u001b[39m\u001b[38;5;241m.\u001b[39mon_error_future\u001b[38;5;241m.\u001b[39mset_exception(exc)\n\u001b[1;32m--> 133\u001b[0m     \u001b[38;5;28;01mraise\u001b[39;00m exc\n\u001b[0;32m    135\u001b[0m \u001b[38;5;28mself\u001b[39m\u001b[38;5;241m.\u001b[39m_output \u001b[38;5;241m=\u001b[39m \u001b[38;5;28mself\u001b[39m\u001b[38;5;241m.\u001b[39m_proc\u001b[38;5;241m.\u001b[39mstdin\n",
      "File \u001b[1;32m~\\PycharmProjects\\pythonProject\\venv\\lib\\site-packages\\playwright\\_impl\\_transport.py:120\u001b[0m, in \u001b[0;36mPipeTransport.connect\u001b[1;34m(self)\u001b[0m\n\u001b[0;32m    117\u001b[0m         startupinfo\u001b[38;5;241m.\u001b[39mwShowWindow \u001b[38;5;241m=\u001b[39m subprocess\u001b[38;5;241m.\u001b[39mSW_HIDE\n\u001b[0;32m    119\u001b[0m     executable_path, entrypoint_path \u001b[38;5;241m=\u001b[39m compute_driver_executable()\n\u001b[1;32m--> 120\u001b[0m     \u001b[38;5;28mself\u001b[39m\u001b[38;5;241m.\u001b[39m_proc \u001b[38;5;241m=\u001b[39m \u001b[38;5;28;01mawait\u001b[39;00m asyncio\u001b[38;5;241m.\u001b[39mcreate_subprocess_exec(\n\u001b[0;32m    121\u001b[0m         executable_path,\n\u001b[0;32m    122\u001b[0m         entrypoint_path,\n\u001b[0;32m    123\u001b[0m         \u001b[38;5;124m\"\u001b[39m\u001b[38;5;124mrun-driver\u001b[39m\u001b[38;5;124m\"\u001b[39m,\n\u001b[0;32m    124\u001b[0m         stdin\u001b[38;5;241m=\u001b[39masyncio\u001b[38;5;241m.\u001b[39msubprocess\u001b[38;5;241m.\u001b[39mPIPE,\n\u001b[0;32m    125\u001b[0m         stdout\u001b[38;5;241m=\u001b[39masyncio\u001b[38;5;241m.\u001b[39msubprocess\u001b[38;5;241m.\u001b[39mPIPE,\n\u001b[0;32m    126\u001b[0m         stderr\u001b[38;5;241m=\u001b[39m_get_stderr_fileno(),\n\u001b[0;32m    127\u001b[0m         limit\u001b[38;5;241m=\u001b[39m\u001b[38;5;241m32768\u001b[39m,\n\u001b[0;32m    128\u001b[0m         env\u001b[38;5;241m=\u001b[39menv,\n\u001b[0;32m    129\u001b[0m         startupinfo\u001b[38;5;241m=\u001b[39mstartupinfo,\n\u001b[0;32m    130\u001b[0m     )\n\u001b[0;32m    131\u001b[0m \u001b[38;5;28;01mexcept\u001b[39;00m \u001b[38;5;167;01mException\u001b[39;00m \u001b[38;5;28;01mas\u001b[39;00m exc:\n\u001b[0;32m    132\u001b[0m     \u001b[38;5;28mself\u001b[39m\u001b[38;5;241m.\u001b[39mon_error_future\u001b[38;5;241m.\u001b[39mset_exception(exc)\n",
      "File \u001b[1;32m~\\AppData\\Local\\Programs\\Python\\Python310\\lib\\asyncio\\subprocess.py:218\u001b[0m, in \u001b[0;36mcreate_subprocess_exec\u001b[1;34m(program, stdin, stdout, stderr, limit, *args, **kwds)\u001b[0m\n\u001b[0;32m    215\u001b[0m loop \u001b[38;5;241m=\u001b[39m events\u001b[38;5;241m.\u001b[39mget_running_loop()\n\u001b[0;32m    216\u001b[0m protocol_factory \u001b[38;5;241m=\u001b[39m \u001b[38;5;28;01mlambda\u001b[39;00m: SubprocessStreamProtocol(limit\u001b[38;5;241m=\u001b[39mlimit,\n\u001b[0;32m    217\u001b[0m                                                     loop\u001b[38;5;241m=\u001b[39mloop)\n\u001b[1;32m--> 218\u001b[0m transport, protocol \u001b[38;5;241m=\u001b[39m \u001b[38;5;28;01mawait\u001b[39;00m loop\u001b[38;5;241m.\u001b[39msubprocess_exec(\n\u001b[0;32m    219\u001b[0m     protocol_factory,\n\u001b[0;32m    220\u001b[0m     program, \u001b[38;5;241m*\u001b[39margs,\n\u001b[0;32m    221\u001b[0m     stdin\u001b[38;5;241m=\u001b[39mstdin, stdout\u001b[38;5;241m=\u001b[39mstdout,\n\u001b[0;32m    222\u001b[0m     stderr\u001b[38;5;241m=\u001b[39mstderr, \u001b[38;5;241m*\u001b[39m\u001b[38;5;241m*\u001b[39mkwds)\n\u001b[0;32m    223\u001b[0m \u001b[38;5;28;01mreturn\u001b[39;00m Process(transport, protocol, loop)\n",
      "File \u001b[1;32m~\\AppData\\Local\\Programs\\Python\\Python310\\lib\\asyncio\\base_events.py:1667\u001b[0m, in \u001b[0;36mBaseEventLoop.subprocess_exec\u001b[1;34m(self, protocol_factory, program, stdin, stdout, stderr, universal_newlines, shell, bufsize, encoding, errors, text, *args, **kwargs)\u001b[0m\n\u001b[0;32m   1665\u001b[0m     debug_log \u001b[38;5;241m=\u001b[39m \u001b[38;5;124mf\u001b[39m\u001b[38;5;124m'\u001b[39m\u001b[38;5;124mexecute program \u001b[39m\u001b[38;5;132;01m{\u001b[39;00mprogram\u001b[38;5;132;01m!r}\u001b[39;00m\u001b[38;5;124m'\u001b[39m\n\u001b[0;32m   1666\u001b[0m     \u001b[38;5;28mself\u001b[39m\u001b[38;5;241m.\u001b[39m_log_subprocess(debug_log, stdin, stdout, stderr)\n\u001b[1;32m-> 1667\u001b[0m transport \u001b[38;5;241m=\u001b[39m \u001b[38;5;28;01mawait\u001b[39;00m \u001b[38;5;28mself\u001b[39m\u001b[38;5;241m.\u001b[39m_make_subprocess_transport(\n\u001b[0;32m   1668\u001b[0m     protocol, popen_args, \u001b[38;5;28;01mFalse\u001b[39;00m, stdin, stdout, stderr,\n\u001b[0;32m   1669\u001b[0m     bufsize, \u001b[38;5;241m*\u001b[39m\u001b[38;5;241m*\u001b[39mkwargs)\n\u001b[0;32m   1670\u001b[0m \u001b[38;5;28;01mif\u001b[39;00m \u001b[38;5;28mself\u001b[39m\u001b[38;5;241m.\u001b[39m_debug \u001b[38;5;129;01mand\u001b[39;00m debug_log \u001b[38;5;129;01mis\u001b[39;00m \u001b[38;5;129;01mnot\u001b[39;00m \u001b[38;5;28;01mNone\u001b[39;00m:\n\u001b[0;32m   1671\u001b[0m     logger\u001b[38;5;241m.\u001b[39minfo(\u001b[38;5;124m'\u001b[39m\u001b[38;5;132;01m%s\u001b[39;00m\u001b[38;5;124m: \u001b[39m\u001b[38;5;132;01m%r\u001b[39;00m\u001b[38;5;124m'\u001b[39m, debug_log, transport)\n",
      "File \u001b[1;32m~\\AppData\\Local\\Programs\\Python\\Python310\\lib\\asyncio\\base_events.py:498\u001b[0m, in \u001b[0;36mBaseEventLoop._make_subprocess_transport\u001b[1;34m(self, protocol, args, shell, stdin, stdout, stderr, bufsize, extra, **kwargs)\u001b[0m\n\u001b[0;32m    494\u001b[0m \u001b[38;5;28;01masync\u001b[39;00m \u001b[38;5;28;01mdef\u001b[39;00m \u001b[38;5;21m_make_subprocess_transport\u001b[39m(\u001b[38;5;28mself\u001b[39m, protocol, args, shell,\n\u001b[0;32m    495\u001b[0m                                      stdin, stdout, stderr, bufsize,\n\u001b[0;32m    496\u001b[0m                                      extra\u001b[38;5;241m=\u001b[39m\u001b[38;5;28;01mNone\u001b[39;00m, \u001b[38;5;241m*\u001b[39m\u001b[38;5;241m*\u001b[39mkwargs):\n\u001b[0;32m    497\u001b[0m \u001b[38;5;250m    \u001b[39m\u001b[38;5;124;03m\"\"\"Create subprocess transport.\"\"\"\u001b[39;00m\n\u001b[1;32m--> 498\u001b[0m     \u001b[38;5;28;01mraise\u001b[39;00m \u001b[38;5;167;01mNotImplementedError\u001b[39;00m\n",
      "\u001b[1;31mNotImplementedError\u001b[0m: "
     ]
    }
   ],
   "source": [
    "html = await get_html(url, \"#content .filter\")                   # Get html before continuing. Content filter is CSS selector to target element ids, starting with id=\"content\" and class = \"filter\""
   ]
  },
  {
   "cell_type": "code",
   "execution_count": null,
   "id": "e4025820-0f31-4218-bee4-cbf7be318c6b",
   "metadata": {},
   "outputs": [],
   "source": []
  }
 ],
 "metadata": {
  "kernelspec": {
   "display_name": "Python 3 (ipykernel)",
   "language": "python",
   "name": "python3"
  },
  "language_info": {
   "codemirror_mode": {
    "name": "ipython",
    "version": 3
   },
   "file_extension": ".py",
   "mimetype": "text/x-python",
   "name": "python",
   "nbconvert_exporter": "python",
   "pygments_lexer": "ipython3",
   "version": "3.10.5"
  }
 },
 "nbformat": 4,
 "nbformat_minor": 5
}
